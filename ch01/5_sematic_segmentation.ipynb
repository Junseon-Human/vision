{
 "cells": [
  {
   "cell_type": "code",
   "execution_count": 1,
   "id": "9255b831",
   "metadata": {},
   "outputs": [
    {
     "name": "stdout",
     "output_type": "stream",
     "text": [
      "Processed Image saved successfuly in your current working directory.\n"
     ]
    }
   ],
   "source": [
    "from pixellib.semantic import semantic_segmentation\n",
    "import cv2 as cv\n",
    "\n",
    "seg = semantic_segmentation()\n",
    "seg.load_ade20k_model(\"deeplabv3_xception65_ade20k.h5\")\n",
    "\n",
    "img_fname = \"busy_street.jpg\"\n",
    "seg.segmentAsAde20k(img_fname, output_image_name=\"image_new.jpg\")\n",
    "info1, img_segmented1 = seg.segmentAsAde20k(img_fname)\n",
    "info2, img_segmented2 = seg.segmentAsAde20k(img_fname, overlay=True)\n",
    "\n",
    "cv.imshow(\"Image origibal\", cv.imread(img_fname))\n",
    "cv.imshow(\"Image segmention\", img_segmented1)\n",
    "cv.imshow(\"Image segmention overlayed\", img_segmented2)\n",
    "\n",
    "cv.waitKey()\n",
    "cv.destroyAllWindows()"
   ]
  },
  {
   "cell_type": "code",
   "execution_count": 1,
   "id": "1961f343",
   "metadata": {},
   "outputs": [],
   "source": [
    "from pixellib.semantic import semantic_segmentation\n",
    "import cv2 as cv\n",
    "\n",
    "cap = cv.VideoCapture(0)\n",
    "\n",
    "seg_video = semantic_segmentation()\n",
    "seg_video.load_ade20k_model(\"deeplabv3_xception65_ade20k.h5\")\n",
    "\n",
    "seg_video.process_camera_ade20k(\n",
    "    cap,\n",
    "    overlay=True,\n",
    "    frames_per_second=2,\n",
    "    output_video_name=\"output_video.mp4\",\n",
    "    show_frames=True,\n",
    "    frame_name=\"Pixellib\",\n",
    ")\n",
    "\n",
    "cap.release()\n",
    "cv.destroyAllWindows()"
   ]
  }
 ],
 "metadata": {
  "kernelspec": {
   "display_name": "python38",
   "language": "python",
   "name": "python3"
  },
  "language_info": {
   "codemirror_mode": {
    "name": "ipython",
    "version": 3
   },
   "file_extension": ".py",
   "mimetype": "text/x-python",
   "name": "python",
   "nbconvert_exporter": "python",
   "pygments_lexer": "ipython3",
   "version": "3.8.20"
  }
 },
 "nbformat": 4,
 "nbformat_minor": 5
}
