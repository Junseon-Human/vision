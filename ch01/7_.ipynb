{
 "cells": [
  {
   "cell_type": "code",
   "execution_count": 1,
   "id": "184f9513",
   "metadata": {},
   "outputs": [
    {
     "data": {
      "text/plain": [
       "0"
      ]
     },
     "execution_count": 1,
     "metadata": {},
     "output_type": "execute_result"
    }
   ],
   "source": [
    "import cv2 as cv\n",
    "import numpy as np\n",
    "from PyQt5.QtWidgets import *\n",
    "import sys\n",
    "from pixellib.tune_bg import alter_bg\n",
    "    \n",
    "class VideoSpecialEffect(QMainWindow):\n",
    "    def __init__(self):\n",
    "        super().__init__()\n",
    "        self.setWindowTitle('배경을 내 맘대로')\n",
    "        self.setGeometry(200,200,400,100)\n",
    "       \n",
    "        videoButton=QPushButton('배경 내 맘대로 켜기',self)\n",
    "        self.pickCombo=QComboBox(self)     \n",
    "        self.pickCombo.addItems(['원래 영상','흐릿(조금)','흐릿(중간)','흐릿(많이)','빨강','녹색','파랑'])\n",
    "        quitButton=QPushButton('나가기',self)        \n",
    "        \n",
    "        videoButton.setGeometry(10,10,140,30)\n",
    "        self.pickCombo.setGeometry(150,10,110,30)                  \n",
    "        quitButton.setGeometry(280,10,100,30)\n",
    "        \n",
    "        videoButton.clicked.connect(self.videoSpecialEffectFunction) \n",
    "        quitButton.clicked.connect(self.quitFunction)\n",
    "        \n",
    "    def videoSpecialEffectFunction(self):             \n",
    "        self.cap=cv.VideoCapture(0,cv.CAP_DSHOW) \n",
    "        if not self.cap.isOpened(): sys.exit('카메라 연결 실패')\n",
    "        \n",
    "        while True:\n",
    "            ret,frame=self.cap.read()  \n",
    "            if not ret: break\n",
    "\n",
    "            pick_effect=self.pickCombo.currentIndex()        \n",
    "            if pick_effect==0:\n",
    "                special_img=frame\n",
    "            elif pick_effect==1:\n",
    "                special_img=change_bg.blur_frame(frame,low=True,detect='person')\n",
    "            elif pick_effect==2:\n",
    "                special_img=change_bg.blur_frame(frame,moderate=True,detect='person')\n",
    "            elif pick_effect==3:    \n",
    "                special_img=change_bg.blur_frame(frame,extreme=True,detect='person')\n",
    "            elif pick_effect==4:    \n",
    "                special_img=change_bg.color_frame(frame,colors=(255,0,0),detect='person')\n",
    "            elif pick_effect==5:    \n",
    "                special_img=change_bg.color_frame(frame,colors=(0,255,0),detect='person')\n",
    "            elif pick_effect==6:    \n",
    "                special_img=change_bg.color_frame(frame,colors=(0,0,255),detect='person')\n",
    "                \n",
    "            cv.imshow('Special effect',special_img)              \n",
    "            cv.waitKey(1) \n",
    "                                        \n",
    "    def quitFunction(self):\n",
    "        self.cap.release()\n",
    "        cv.destroyAllWindows()        \n",
    "        self.close()\n",
    "\n",
    "change_bg=alter_bg(model_type=\"pb\")\n",
    "change_bg.load_pascalvoc_model('xception_pascalvoc.pb')\n",
    "                \n",
    "app=QApplication(sys.argv) \n",
    "win=VideoSpecialEffect() \n",
    "win.show()\n",
    "app.exec_()"
   ]
  },
  {
   "cell_type": "code",
   "execution_count": 1,
   "id": "a1815e7c",
   "metadata": {},
   "outputs": [
    {
     "name": "stdout",
     "output_type": "stream",
     "text": [
      "1.19.5\n"
     ]
    }
   ],
   "source": [
    "import numpy as np\n",
    "print(np.__version__)"
   ]
  },
  {
   "cell_type": "code",
   "execution_count": 2,
   "id": "06f61741",
   "metadata": {},
   "outputs": [
    {
     "name": "stdout",
     "output_type": "stream",
     "text": [
      "1.24.4\n"
     ]
    }
   ],
   "source": [
    "import numpy as np\n",
    "print(np.__version__)"
   ]
  }
 ],
 "metadata": {
  "kernelspec": {
   "display_name": "python38",
   "language": "python",
   "name": "python3"
  },
  "language_info": {
   "codemirror_mode": {
    "name": "ipython",
    "version": 3
   },
   "file_extension": ".py",
   "mimetype": "text/x-python",
   "name": "python",
   "nbconvert_exporter": "python",
   "pygments_lexer": "ipython3",
   "version": "3.8.20"
  }
 },
 "nbformat": 4,
 "nbformat_minor": 5
}
