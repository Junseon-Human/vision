{
 "cells": [
  {
   "cell_type": "code",
   "execution_count": 8,
   "id": "b99a049c",
   "metadata": {},
   "outputs": [
    {
     "name": "stdout",
     "output_type": "stream",
     "text": [
      "[[270  52  55  55]\n",
      " [414  62  58  58]\n",
      " [484 130  61  61]\n",
      " [175 104  68  68]]\n"
     ]
    }
   ],
   "source": [
    "import cv2\n",
    "\n",
    "image = cv2.imread('people.jpg')\n",
    "image_resized = cv2.resize(image, (755, 500))\n",
    "\n",
    "cascade_face_detector = cv2.CascadeClassifier('haarcascade_frontalface_default.xml')\n",
    "face_detections = cascade_face_detector.detectMultiScale(image_resized)\n",
    "\n",
    "print(face_detections)\n",
    "\n",
    "for (x,y,w,h) in face_detections:\n",
    "    cv2.rectangle(image_resized, (x,y), (x+w, y+h), (255,0,0), 2)\n",
    "\n",
    "cv2.imshow(\"test\", image_resized)\n",
    "cv2.waitKey(0)\n",
    "cv2.destroyAllWindows()"
   ]
  },
  {
   "cell_type": "markdown",
   "id": "ecbd3e3c",
   "metadata": {},
   "source": [
    "# scaleFactor 지정하기\n",
    "* sacleFactor 는 얼굴을 검출할 사이즈를 설정 할  수 있음 (이미지에 따라서 얼굴이 크게 나오거나 적게 나올수 있기 때문에 이런 설정을 사용)\n",
    "* 기본값은 1.1"
   ]
  },
  {
   "cell_type": "code",
   "execution_count": 16,
   "id": "a313d50f",
   "metadata": {},
   "outputs": [
    {
     "name": "stdout",
     "output_type": "stream",
     "text": [
      "[[270  53  54  54]\n",
      " [484 130  60  60]\n",
      " [415  62  58  58]\n",
      " [175 104  68  68]\n",
      " [307 143  74  74]\n",
      " [183 184 171 171]]\n"
     ]
    }
   ],
   "source": [
    "import cv2\n",
    "\n",
    "image = cv2.imread('people.jpg')\n",
    "image_resized = cv2.resize(image, (755, 500))\n",
    "\n",
    "cascade_face_detector = cv2.CascadeClassifier('haarcascade_frontalface_default.xml')\n",
    "face_detections = cascade_face_detector.detectMultiScale(image_resized, scaleFactor=1.01)\n",
    "\n",
    "print(face_detections)\n",
    "\n",
    "for (x,y,w,h) in face_detections:\n",
    "    cv2.rectangle(image_resized, (x,y), (x+w, y+h), (255,0,0), 2)\n",
    "\n",
    "cv2.imshow(\"test\", image_resized)\n",
    "cv2.waitKey(0)\n",
    "cv2.destroyAllWindows()"
   ]
  },
  {
   "cell_type": "markdown",
   "id": "059e05a2",
   "metadata": {},
   "source": [
    "# minNeighbors\n",
    "* minNeighbors 파라미터는 최종 경계 박스를 선택하기 위해 얼굴 주변에 존재해야 하는 최소 후보 경계 박스 개수입니다. 만약에 minNeighbors=5라면 한 얼굴에 최소한 5개의 후보 경계 박스가 있어야 해당 얼굴을 검출을 의미\n"
   ]
  },
  {
   "cell_type": "code",
   "execution_count": 34,
   "id": "604711d4",
   "metadata": {},
   "outputs": [
    {
     "name": "stdout",
     "output_type": "stream",
     "text": [
      "[[270  53  54  54]\n",
      " [484 130  60  60]\n",
      " [415  62  58  58]\n",
      " [307 143  74  74]\n",
      " [175 104  68  68]\n",
      " [183 184 171 171]]\n"
     ]
    }
   ],
   "source": [
    "import cv2\n",
    "\n",
    "image = cv2.imread('people.jpg')\n",
    "image_resized = cv2.resize(image, (755, 500))\n",
    "\n",
    "cascade_face_detector = cv2.CascadeClassifier('haarcascade_frontalface_default.xml')\n",
    "face_detections = cascade_face_detector.detectMultiScale(image_resized, scaleFactor=1.01, minNeighbors=4)\n",
    "\n",
    "print(face_detections)\n",
    "\n",
    "for (x,y,w,h) in face_detections:\n",
    "    cv2.rectangle(image_resized, (x,y), (x+w, y+h), (255,0,0), 2)\n",
    "\n",
    "cv2.imshow(\"test\", image_resized)\n",
    "cv2.waitKey(0)\n",
    "cv2.destroyAllWindows()"
   ]
  }
 ],
 "metadata": {
  "kernelspec": {
   "display_name": "python38",
   "language": "python",
   "name": "python3"
  },
  "language_info": {
   "codemirror_mode": {
    "name": "ipython",
    "version": 3
   },
   "file_extension": ".py",
   "mimetype": "text/x-python",
   "name": "python",
   "nbconvert_exporter": "python",
   "pygments_lexer": "ipython3",
   "version": "3.8.20"
  }
 },
 "nbformat": 4,
 "nbformat_minor": 5
}
