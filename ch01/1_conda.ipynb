{
 "cells": [
  {
   "cell_type": "code",
   "execution_count": null,
   "id": "2e41fe62",
   "metadata": {},
   "outputs": [],
   "source": [
    "# conda create -n python38 python=3.8\n",
    "# conda activate python38\n",
    "# pip3 install tensorflow==2.6.0 keras==2.6.0 pixellib==0.6.6 protobuf==3.19.6 opencv-contrib-python\n",
    "# pip install PyQt5\n",
    "\n",
    "# ultralytics 설치시 PyQt5 때문에 numpy 버전으로 의존성 충돌\n",
    "# pip install ultralytics"
   ]
  }
 ],
 "metadata": {
  "kernelspec": {
   "display_name": "python38",
   "language": "python",
   "name": "python3"
  },
  "language_info": {
   "codemirror_mode": {
    "name": "ipython",
    "version": 3
   },
   "file_extension": ".py",
   "mimetype": "text/x-python",
   "name": "python",
   "nbconvert_exporter": "python",
   "pygments_lexer": "ipython3",
   "version": "3.8.20"
  }
 },
 "nbformat": 4,
 "nbformat_minor": 5
}
